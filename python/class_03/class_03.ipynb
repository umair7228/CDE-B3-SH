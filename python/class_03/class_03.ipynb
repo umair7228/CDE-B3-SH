{
 "cells": [
  {
   "cell_type": "markdown",
   "id": "9f54fd1f-0daa-4036-93c9-2ea494ff0583",
   "metadata": {},
   "source": [
    "### User Input"
   ]
  },
  {
   "cell_type": "code",
   "execution_count": 2,
   "id": "0e1db0e3-7285-4c3b-839b-0db1ed24e62a",
   "metadata": {},
   "outputs": [
    {
     "name": "stdin",
     "output_type": "stream",
     "text": [
      "Enter Your Name:  Umair\n"
     ]
    },
    {
     "name": "stdout",
     "output_type": "stream",
     "text": [
      "Umair\n"
     ]
    }
   ],
   "source": [
    "full_name = input('Enter Your Name: ')\n",
    "print(full_name)"
   ]
  },
  {
   "cell_type": "code",
   "execution_count": 7,
   "id": "d3503bdb-88b9-47a4-880e-b459acf20cb1",
   "metadata": {},
   "outputs": [
    {
     "name": "stdin",
     "output_type": "stream",
     "text": [
      "Enter Your Name:  23\n"
     ]
    },
    {
     "name": "stdout",
     "output_type": "stream",
     "text": [
      "23\n"
     ]
    }
   ],
   "source": [
    "age = int(input('Enter Your Name: '))\n",
    "print(age)"
   ]
  },
  {
   "cell_type": "markdown",
   "id": "be25824f-3c61-473a-a09a-f8d1bbc90d85",
   "metadata": {},
   "source": [
    "### Task\n",
    "- If student percentage is less then 90, so the grade will be A\n",
    "- If student percentage is less then 80, so the grade will be B\n",
    "- If student percentage is less then 70, so the grade will be C\n",
    "- If student percentage is less then 60, so the grade will be D\n",
    "- otherwise grade will be A+"
   ]
  },
  {
   "cell_type": "code",
   "execution_count": 7,
   "id": "76152be1-23b1-407f-a56e-2ab286046d53",
   "metadata": {},
   "outputs": [
    {
     "name": "stdin",
     "output_type": "stream",
     "text": [
      "please enter your marks 81\n"
     ]
    },
    {
     "name": "stdout",
     "output_type": "stream",
     "text": [
      "Grade-A\n"
     ]
    }
   ],
   "source": [
    "marks = int(input(\"please enter your marks\"))\n",
    "if marks >= 90:\n",
    "    print(\"Grade-A+\")\n",
    "elif marks >= 80:\n",
    "    print(\"Grade-A\")\n",
    "elif marks >= 70:\n",
    "    print (\"Grade-B\")\n",
    "elif marks >= 60:\n",
    "    print('Grade-C')\n",
    "else:\n",
    "    print(\"Grade-F\")"
   ]
  },
  {
   "cell_type": "code",
   "execution_count": 9,
   "id": "d149137b-a9dc-4690-bedb-b6c39964b829",
   "metadata": {},
   "outputs": [
    {
     "name": "stdin",
     "output_type": "stream",
     "text": [
      "Enter Your Gender Male/Female:  Male\n",
      "Enter Your Qualification:  Intermediate\n"
     ]
    },
    {
     "name": "stdout",
     "output_type": "stream",
     "text": [
      "Congratualation! Your are eligible.\n"
     ]
    }
   ],
   "source": [
    "gender = input(\"Enter Your Gender Male/Female: \")\n",
    "\n",
    "if gender == \"Male\":\n",
    "    qualification = input(\"Enter Your Qualification: \")\n",
    "    if qualification == \"Intermediate\":\n",
    "        print(\"Congratualation! Your are eligible.\")\n",
    "    else:\n",
    "        print(\"Sorry! You are not eligible.\")\n",
    "else:\n",
    "    print(\"you are not eligible.\")"
   ]
  },
  {
   "cell_type": "markdown",
   "id": "c190fc3a-7307-4f1b-8602-ea9a330a5fd6",
   "metadata": {},
   "source": [
    "### List"
   ]
  },
  {
   "cell_type": "code",
   "execution_count": 13,
   "id": "4496f2c2-2caf-4b1a-bed5-175e70d324c9",
   "metadata": {},
   "outputs": [
    {
     "name": "stdout",
     "output_type": "stream",
     "text": [
      "Atlanta\n",
      "Baltimore\n"
     ]
    }
   ],
   "source": [
    "city_0 = \"Atlanta\"\n",
    "city_1 = \"Baltimore\"\n",
    "city_2 = \"Chicago\"\n",
    "city_3 = \"Denver\"\n",
    "city_4 = \"Los Angeles\"\n",
    "city_5 = \"Seattle\"\n",
    "print(city_0)\n",
    "print(city_1)"
   ]
  },
  {
   "cell_type": "code",
   "execution_count": 1,
   "id": "324c4d66-84dd-4208-abaf-60676c3d210a",
   "metadata": {},
   "outputs": [
    {
     "name": "stdout",
     "output_type": "stream",
     "text": [
      "['Atlanta', 'Chicago', 'Karachi', 'Lahore', 'Karachi']\n"
     ]
    }
   ],
   "source": [
    "#             0           1       2            3        4\n",
    "cities = ['Atlanta', 'Chicago', 'Karachi', 'Lahore', 'Karachi']\n",
    "#            -5          -4          -3      -2          -1\n",
    "print(cities)"
   ]
  },
  {
   "cell_type": "code",
   "execution_count": 16,
   "id": "0e3a0bdd-e83e-4df8-a961-aeb1a2d194da",
   "metadata": {},
   "outputs": [
    {
     "name": "stdout",
     "output_type": "stream",
     "text": [
      "['Atlanta', 'Chicago', 'Karachi', 'Lahore', 'Karachi', 'Multan']\n"
     ]
    }
   ],
   "source": [
    "cities.append('Multan')\n",
    "print(cities)"
   ]
  },
  {
   "cell_type": "code",
   "execution_count": 19,
   "id": "7645ab41-24c5-4e2f-aea6-9deb554a7dd1",
   "metadata": {},
   "outputs": [
    {
     "name": "stdout",
     "output_type": "stream",
     "text": [
      "['Atlanta', 'Chicago', 'Karachi', 'Lahore', 'Karachi', 'Multan', 'Dubuque', 'New Orleans']\n"
     ]
    }
   ],
   "source": [
    "cities = cities + [\"Dubuque\", \"New Orleans\"]\n",
    "print(cities)\n",
    "\n",
    "# cities['Karachi'] = \"Islamabad\"\n",
    "# print(cities)"
   ]
  },
  {
   "cell_type": "code",
   "execution_count": 20,
   "id": "3ed5087b-c045-4d5f-865d-3ea288a72f0f",
   "metadata": {},
   "outputs": [
    {
     "name": "stdout",
     "output_type": "stream",
     "text": [
      "['Atlanta', 'Chicago', 'Islamabad', 'Lahore', 'Karachi', 'Multan', 'Dubuque', 'New Orleans']\n"
     ]
    }
   ],
   "source": [
    "cities[2] = 'Islamabad'\n",
    "print(cities)"
   ]
  },
  {
   "cell_type": "code",
   "execution_count": 21,
   "id": "59a2e47d-4e00-40ee-b6f3-c016d23c9307",
   "metadata": {},
   "outputs": [
    {
     "name": "stdout",
     "output_type": "stream",
     "text": [
      "['Atlanta', 'Faisalabad', 'Chicago', 'Islamabad', 'Lahore', 'Karachi', 'Multan', 'Dubuque', 'New Orleans']\n"
     ]
    }
   ],
   "source": [
    "cities.insert(1, 'Faisalabad')\n",
    "print(cities)"
   ]
  },
  {
   "cell_type": "code",
   "execution_count": 22,
   "id": "9a96e4ff-1db8-4da1-9016-3ef0abb0bad6",
   "metadata": {},
   "outputs": [
    {
     "data": {
      "text/plain": [
       "['Atlanta',\n",
       " 'Faisalabad',\n",
       " 'Chicago',\n",
       " 'Islamabad',\n",
       " 'Lahore',\n",
       " 'Karachi',\n",
       " 'Multan',\n",
       " 'Dubuque',\n",
       " 'New Orleans']"
      ]
     },
     "execution_count": 22,
     "metadata": {},
     "output_type": "execute_result"
    }
   ],
   "source": [
    "# Slicing\n",
    "cities"
   ]
  },
  {
   "cell_type": "code",
   "execution_count": 23,
   "id": "ca5c40c6-175c-4b10-988e-680b1039e1b5",
   "metadata": {},
   "outputs": [
    {
     "data": {
      "text/plain": [
       "['Chicago', 'Islamabad', 'Lahore', 'Karachi', 'Multan']"
      ]
     },
     "execution_count": 23,
     "metadata": {},
     "output_type": "execute_result"
    }
   ],
   "source": [
    "cities[2:-2]"
   ]
  },
  {
   "cell_type": "code",
   "execution_count": 25,
   "id": "0648a735-0e46-4c02-9c7d-8ecdc7245c18",
   "metadata": {},
   "outputs": [
    {
     "data": {
      "text/plain": [
       "['Atlanta', 'Faisalabad', 'Chicago', 'Islamabad', 'Lahore']"
      ]
     },
     "execution_count": 25,
     "metadata": {},
     "output_type": "execute_result"
    }
   ],
   "source": [
    "cities[:5]"
   ]
  },
  {
   "cell_type": "code",
   "execution_count": 26,
   "id": "c841fdc0-4daf-4981-b263-5497702ffefb",
   "metadata": {},
   "outputs": [
    {
     "ename": "TypeError",
     "evalue": "list indices must be integers or slices, not str",
     "output_type": "error",
     "traceback": [
      "\u001b[1;31m---------------------------------------------------------------------------\u001b[0m",
      "\u001b[1;31mTypeError\u001b[0m                                 Traceback (most recent call last)",
      "Cell \u001b[1;32mIn[26], line 1\u001b[0m\n\u001b[1;32m----> 1\u001b[0m \u001b[38;5;28;01mdel\u001b[39;00m cities[\u001b[38;5;124m'\u001b[39m\u001b[38;5;124mFaisalabad\u001b[39m\u001b[38;5;124m'\u001b[39m]\n\u001b[0;32m      2\u001b[0m \u001b[38;5;28mprint\u001b[39m(cities)\n",
      "\u001b[1;31mTypeError\u001b[0m: list indices must be integers or slices, not str"
     ]
    }
   ],
   "source": [
    "del cities['Faisalabad']\n",
    "print(cities)"
   ]
  },
  {
   "cell_type": "code",
   "execution_count": 27,
   "id": "55a52eb3-d84a-4f91-8b9c-9b9433acbf0d",
   "metadata": {},
   "outputs": [
    {
     "name": "stdout",
     "output_type": "stream",
     "text": [
      "['Atlanta', 'Chicago', 'Islamabad', 'Lahore', 'Karachi', 'Multan', 'Dubuque', 'New Orleans']\n"
     ]
    }
   ],
   "source": [
    "del cities[1]\n",
    "print(cities)"
   ]
  },
  {
   "cell_type": "code",
   "execution_count": 28,
   "id": "a1b8f28e-2d3b-4aef-aa44-e5db1f81af8b",
   "metadata": {},
   "outputs": [
    {
     "name": "stdout",
     "output_type": "stream",
     "text": [
      "['Atlanta', 'Islamabad', 'Lahore', 'Karachi', 'Multan', 'Dubuque', 'New Orleans']\n"
     ]
    }
   ],
   "source": [
    "cities.remove('Chicago')\n",
    "print(cities)"
   ]
  },
  {
   "cell_type": "code",
   "execution_count": 31,
   "id": "6edd8a9e-667c-4b15-83bf-47a1caa9262b",
   "metadata": {},
   "outputs": [
    {
     "name": "stdout",
     "output_type": "stream",
     "text": [
      "Karachi\n"
     ]
    }
   ],
   "source": [
    "sindh_cities = cities.pop(3)\n",
    "print(sindh_cities)"
   ]
  },
  {
   "cell_type": "code",
   "execution_count": 38,
   "id": "f1b9271c-63ad-4abc-91ff-63cb7fb3c544",
   "metadata": {},
   "outputs": [
    {
     "name": "stdout",
     "output_type": "stream",
     "text": [
      "Islamabad\n"
     ]
    }
   ],
   "source": [
    "city1 = cities[1]\n",
    "print(city1)"
   ]
  },
  {
   "cell_type": "markdown",
   "id": "1745b8da-9921-406d-b5d6-83fdbae14c70",
   "metadata": {},
   "source": [
    "## Tuple"
   ]
  },
  {
   "cell_type": "code",
   "execution_count": 34,
   "id": "04e4ea93-f388-4589-8cec-54253ed383de",
   "metadata": {},
   "outputs": [
    {
     "name": "stdout",
     "output_type": "stream",
     "text": [
      "<class 'list'>\n",
      "<class 'tuple'>\n"
     ]
    }
   ],
   "source": [
    "print(type(['Umair', 'Qasim', 'Ayan'])) # Mutable\n",
    "print(type(('Umair', 'Qasim', 'Ayan'))) # Imutable"
   ]
  },
  {
   "cell_type": "code",
   "execution_count": 35,
   "id": "68f1b2c0-39e3-4118-9b9e-78bb8726e428",
   "metadata": {},
   "outputs": [],
   "source": [
    "states_in_order_of_founding = (\"Delaware\", \"Pennsylvania\", \"New Jersey\", \"Georgia\")"
   ]
  },
  {
   "cell_type": "code",
   "execution_count": 37,
   "id": "7607bb02-2bf0-4e36-b272-d24d659c3328",
   "metadata": {},
   "outputs": [
    {
     "name": "stdout",
     "output_type": "stream",
     "text": [
      "Pennsylvania\n"
     ]
    }
   ],
   "source": [
    "second_state_founded = states_in_order_of_founding[1]\n",
    "print(second_state_founded)"
   ]
  },
  {
   "cell_type": "code",
   "execution_count": 2,
   "id": "6eece92d-da6c-4520-ab29-15059520ec87",
   "metadata": {},
   "outputs": [
    {
     "data": {
      "text/plain": [
       "['Atlanta', 'Chicago', 'Karachi', 'Lahore', 'Karachi']"
      ]
     },
     "execution_count": 2,
     "metadata": {},
     "output_type": "execute_result"
    }
   ],
   "source": [
    "cities"
   ]
  },
  {
   "cell_type": "code",
   "execution_count": 3,
   "id": "3ba850d4-96ae-4e39-b9d3-b51ec1c71c9f",
   "metadata": {},
   "outputs": [
    {
     "name": "stdout",
     "output_type": "stream",
     "text": [
      "yes\n"
     ]
    }
   ],
   "source": [
    "if \"Karachi\" in cities:\n",
    "    print(f'{fruit} yes')\n",
    "else:\n",
    "    print('no')"
   ]
  },
  {
   "cell_type": "markdown",
   "id": "25fdf32d-776e-4850-9925-f89595da9482",
   "metadata": {},
   "source": [
    "### Task\n",
    "\n",
    "You have a fruit basket represented as a list of fruits. You need to check if a specific fruit is in the basket. If it is, print a message saying it’s available. If not, say it’s not available.\n",
    "\n",
    "Additionally, you have a tuple of favorite fruits. If the fruit is found in both the basket and your favorites, print a special message."
   ]
  },
  {
   "cell_type": "code",
   "execution_count": 16,
   "id": "993d66e9-112c-48d6-b598-5f1bf1a86555",
   "metadata": {},
   "outputs": [
    {
     "name": "stdin",
     "output_type": "stream",
     "text": [
      "Enter your favourite fruit: date\n"
     ]
    },
    {
     "name": "stdout",
     "output_type": "stream",
     "text": [
      "Yes, it is avilable\n",
      "Yes, Your fruit is in our favourite fruits.\n"
     ]
    }
   ],
   "source": [
    "fruits =[\"apple\", \"banana\", \"orange\", \"date\"]\n",
    "favourite_fruits = ('date', 'banana')\n",
    "\n",
    "fruit = input(\"Enter your favourite fruit:\")\n",
    "\n",
    "if fruit.lower() in fruits:\n",
    "    print(\"Yes, it is avilable\")\n",
    "    if fruit.lower() in favourite_fruits:\n",
    "        print(\"Yes, Your fruit is in our favourite fruits.\")\n",
    "else:\n",
    "    print(\"No, it is not available\")"
   ]
  },
  {
   "cell_type": "code",
   "execution_count": null,
   "id": "161090e0-a785-42a2-9196-55de551c4fa2",
   "metadata": {},
   "outputs": [],
   "source": []
  }
 ],
 "metadata": {
  "kernelspec": {
   "display_name": "Python [conda env:base] *",
   "language": "python",
   "name": "conda-base-py"
  },
  "language_info": {
   "codemirror_mode": {
    "name": "ipython",
    "version": 3
   },
   "file_extension": ".py",
   "mimetype": "text/x-python",
   "name": "python",
   "nbconvert_exporter": "python",
   "pygments_lexer": "ipython3",
   "version": "3.13.5"
  }
 },
 "nbformat": 4,
 "nbformat_minor": 5
}
