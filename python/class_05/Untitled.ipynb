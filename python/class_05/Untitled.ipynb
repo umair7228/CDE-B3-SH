{
 "cells": [
  {
   "cell_type": "markdown",
   "id": "0227cd0d-c9eb-49c7-892b-11811510261b",
   "metadata": {},
   "source": [
    "### For Loop"
   ]
  },
  {
   "cell_type": "code",
   "execution_count": 5,
   "id": "6eab6207-33e0-41e4-b5af-f0d86859fe00",
   "metadata": {},
   "outputs": [
    {
     "name": "stdout",
     "output_type": "stream",
     "text": [
      "Ayan You are invited for the party.\n",
      "Arsalan You are invited for the party.\n",
      "Noman You are invited for the party.\n",
      "Mehmood You are invited for the party.\n"
     ]
    }
   ],
   "source": [
    "friend1 = \"Ayan\"\n",
    "friend2 = \"Arsalan\"\n",
    "friend3 = \"Noman\"\n",
    "friend4 = \"Mehmood\"\n",
    "\n",
    "print(f'{friend1} You are invited for the party.')\n",
    "print(f'{friend2} You are invited for the party.')\n",
    "print(f'{friend3} You are invited for the party.')\n",
    "print(f'{friend4} You are invited for the party.')"
   ]
  },
  {
   "cell_type": "code",
   "execution_count": 6,
   "id": "f57353d1-57c1-42dc-941b-edb708091959",
   "metadata": {},
   "outputs": [
    {
     "name": "stdout",
     "output_type": "stream",
     "text": [
      "Ayan You are invited for the party.\n",
      "Arsalan You are invited for the party.\n",
      "Noman You are invited for the party.\n",
      "Mehmood You are invited for the party.\n"
     ]
    }
   ],
   "source": [
    "friends = ['Ayan', 'Arsalan', 'Noman', 'Mehmood']\n",
    "\n",
    "for friend in friends:\n",
    "    print(f'{friend} You are invited for the party.')"
   ]
  },
  {
   "cell_type": "code",
   "execution_count": 3,
   "id": "0cbee0e4-2de8-4ca3-9c79-1bc66509d95b",
   "metadata": {},
   "outputs": [
    {
     "name": "stdout",
     "output_type": "stream",
     "text": [
      "Islamabad\n"
     ]
    }
   ],
   "source": [
    "cleanest_city = \"Islamabad\"\n",
    "\n",
    "\n",
    "if cleanest_city == pakistan_cities[0]:\n",
    "    print(cleanest_city)\n",
    "elif cleanest_city == pakistan_cities[1]:\n",
    "    print(cleanest_city)\n",
    "elif cleanest_city == pakistan_cities[2]:\n",
    "    print(cleanest_city)\n",
    "elif cleanest_city == pakistan_cities[3]:\n",
    "    print(cleanest_city)\n",
    "elif cleanest_city == pakistan_cities[4]:\n",
    "    print(cleanest_city)"
   ]
  },
  {
   "cell_type": "code",
   "execution_count": 5,
   "id": "659d4289-31a7-4ddd-b50b-d323291568c4",
   "metadata": {},
   "outputs": [
    {
     "name": "stdout",
     "output_type": "stream",
     "text": [
      "Karachi is not a clean city.\n",
      "Lahore is not a clean city.\n",
      "Pindi is not a clean city.\n",
      "Islamabad\n"
     ]
    }
   ],
   "source": [
    "pakistan_cities = ['Karachi', 'Lahore', \"Pindi\", 'Islamabad']\n",
    "\n",
    "for city in pakistan_cities:\n",
    "    if city == cleanest_city:\n",
    "        print(city)\n",
    "    else:\n",
    "        print(f'{city} is not a clean city.')"
   ]
  },
  {
   "cell_type": "code",
   "execution_count": 4,
   "id": "7997dcf7-a8a1-4ab2-b44d-e562ce7c13ba",
   "metadata": {},
   "outputs": [
    {
     "name": "stdout",
     "output_type": "stream",
     "text": [
      "Islamabad\n"
     ]
    }
   ],
   "source": [
    "if cleanest_city in pakistan_cities:\n",
    "    print(cleanest_city)"
   ]
  },
  {
   "cell_type": "code",
   "execution_count": 1,
   "id": "19ea9f1f-89e7-44c9-9219-a5679aab2597",
   "metadata": {},
   "outputs": [
    {
     "name": "stdout",
     "output_type": "stream",
     "text": [
      "['Muhammad Salman', 'Muhammad Nawaz', 'Muhammad Hussain', 'Umair Salman', 'Umair Nawaz', 'Umair Hussain', 'Sameer Salman', 'Sameer Nawaz', 'Sameer Hussain']\n"
     ]
    }
   ],
   "source": [
    "first_names = ['Muhammad', 'Umair', 'Sameer']\n",
    "last_names = ['Salman', 'Nawaz', 'Hussain']\n",
    "full_names = []\n",
    "\n",
    "for first_name in first_names:\n",
    "    for last_name in last_names:\n",
    "        full_names.append(first_name + ' ' + last_name)\n",
    "\n",
    "print(full_names)"
   ]
  },
  {
   "cell_type": "code",
   "execution_count": 8,
   "id": "653727df-dfb7-4d40-aa56-5ae8cedf5b3c",
   "metadata": {},
   "outputs": [
    {
     "data": {
      "text/plain": [
       "3"
      ]
     },
     "execution_count": 8,
     "metadata": {},
     "output_type": "execute_result"
    }
   ],
   "source": [
    "len(first_names)"
   ]
  },
  {
   "cell_type": "code",
   "execution_count": 13,
   "id": "d5cacbff-81e4-4fd0-b635-99617b3e1186",
   "metadata": {},
   "outputs": [
    {
     "name": "stdout",
     "output_type": "stream",
     "text": [
      "1\n",
      "4\n",
      "7\n"
     ]
    }
   ],
   "source": [
    "for i in range(1, 10, 3):\n",
    "    print(i)"
   ]
  },
  {
   "cell_type": "code",
   "execution_count": 12,
   "id": "67735cd0-3347-4660-bfdd-f1da62023faf",
   "metadata": {},
   "outputs": [
    {
     "name": "stdout",
     "output_type": "stream",
     "text": [
      "Umair\n",
      "['Umair', 'Sameer']\n",
      "['Muhammad', 'Umair', 'Sameer']\n",
      "['Umair', 'Noman']\n",
      "['Sameer', 'Noman']\n"
     ]
    }
   ],
   "source": [
    "#                0           1        2          3       4\n",
    "first_names = ['Muhammad', 'Umair', 'Sameer', 'Noman', 'Mushtaq']\n",
    "#                             -4         -3       -2           -1\n",
    "print(first_names[1])\n",
    "print(first_names[1:3])\n",
    "print(first_names[:3])\n",
    "print(first_names[1:5:2])\n",
    "print(first_names[-3:-1])"
   ]
  },
  {
   "cell_type": "code",
   "execution_count": 24,
   "id": "e6646f4e-fd89-4a11-9107-df10f4775d15",
   "metadata": {},
   "outputs": [
    {
     "name": "stdout",
     "output_type": "stream",
     "text": [
      "['Muhammad Salman', 'Umair Nawaz', 'Sameer Hussain']\n"
     ]
    }
   ],
   "source": [
    "first_names = ['Muhammad', 'Umair', 'Sameer']\n",
    "last_names = ['Salman', 'Nawaz', 'Hussain']\n",
    "full_names = []\n",
    "\n",
    "# first_names.append('Muhammad')\n",
    "# last_names.append('Noman')\n",
    "# print(first_names)\n",
    "# print(last_names)\n",
    "# print(len(first_names))\n",
    "\n",
    "# for i in range(len(first_names)):\n",
    "#     print(i)\n",
    "for i in range(len(first_names)):\n",
    "    full_names.append(first_names[i] + ' ' + last_names[i])\n",
    "print(full_names)"
   ]
  },
  {
   "cell_type": "code",
   "execution_count": null,
   "id": "df458ed3-725f-438a-b62d-72464914f515",
   "metadata": {},
   "outputs": [],
   "source": []
  },
  {
   "cell_type": "markdown",
   "id": "736f0bd1-a1c0-43cc-b2da-30723a7f3886",
   "metadata": {},
   "source": [
    "### Task:\n",
    "    - Write a code to create tables using range() and nested for loop"
   ]
  },
  {
   "cell_type": "code",
   "execution_count": 29,
   "id": "9e43ee36-1073-4121-9031-0489df85797f",
   "metadata": {},
   "outputs": [
    {
     "name": "stdout",
     "output_type": "stream",
     "text": [
      "2 x 1 = 2\n",
      "2 x 2 = 4\n",
      "2 x 3 = 6\n",
      "2 x 4 = 8\n",
      "2 x 5 = 10\n",
      "2 x 6 = 12\n",
      "2 x 7 = 14\n",
      "2 x 8 = 16\n",
      "2 x 9 = 18\n",
      "2 x 10 = 20\n",
      "\n",
      "3 x 1 = 3\n",
      "3 x 2 = 6\n",
      "3 x 3 = 9\n",
      "3 x 4 = 12\n",
      "3 x 5 = 15\n",
      "3 x 6 = 18\n",
      "3 x 7 = 21\n",
      "3 x 8 = 24\n",
      "3 x 9 = 27\n",
      "3 x 10 = 30\n",
      "\n"
     ]
    }
   ],
   "source": [
    "table= [2,3]\n",
    "n= 10\n",
    "for i in range(len(table)):\n",
    "    for x in range(1,n + 1):\n",
    "        print(f'{table[i]} x {x} = {table[i]*x}')\n",
    "    print()"
   ]
  },
  {
   "cell_type": "code",
   "execution_count": 31,
   "id": "8bad996b-a750-448a-96ce-b50ede3b8fa3",
   "metadata": {},
   "outputs": [
    {
     "name": "stdout",
     "output_type": "stream",
     "text": [
      "Table of 2\n",
      "2 x 1 = 2\n",
      "2 x 2 = 4\n",
      "2 x 3 = 6\n",
      "2 x 4 = 8\n",
      "2 x 5 = 10\n",
      "2 x 6 = 12\n",
      "2 x 7 = 14\n",
      "2 x 8 = 16\n",
      "2 x 9 = 18\n",
      "2 x 10 = 20\n",
      "\n",
      "Table of 3\n",
      "3 x 1 = 3\n",
      "3 x 2 = 6\n",
      "3 x 3 = 9\n",
      "3 x 4 = 12\n",
      "3 x 5 = 15\n",
      "3 x 6 = 18\n",
      "3 x 7 = 21\n",
      "3 x 8 = 24\n",
      "3 x 9 = 27\n",
      "3 x 10 = 30\n",
      "\n",
      "Table of 4\n",
      "4 x 1 = 4\n",
      "4 x 2 = 8\n",
      "4 x 3 = 12\n",
      "4 x 4 = 16\n",
      "4 x 5 = 20\n",
      "4 x 6 = 24\n",
      "4 x 7 = 28\n",
      "4 x 8 = 32\n",
      "4 x 9 = 36\n",
      "4 x 10 = 40\n",
      "\n",
      "Table of 5\n",
      "5 x 1 = 5\n",
      "5 x 2 = 10\n",
      "5 x 3 = 15\n",
      "5 x 4 = 20\n",
      "5 x 5 = 25\n",
      "5 x 6 = 30\n",
      "5 x 7 = 35\n",
      "5 x 8 = 40\n",
      "5 x 9 = 45\n",
      "5 x 10 = 50\n",
      "\n"
     ]
    }
   ],
   "source": [
    "for i in range(2, 6):\n",
    "    print(\"Table of\", i)\n",
    "    \n",
    "    for j in range(1, 11):\n",
    "        print(f'{i} x {j} = {i*j}')\n",
    "    print()"
   ]
  },
  {
   "cell_type": "code",
   "execution_count": 35,
   "id": "1f6abb75-bae1-42a1-90ea-6d02f50eadd5",
   "metadata": {},
   "outputs": [
    {
     "data": {
      "text/plain": [
       "'Umair Nawaz'"
      ]
     },
     "execution_count": 35,
     "metadata": {},
     "output_type": "execute_result"
    }
   ],
   "source": [
    "name = 'UMAIR nawaz'\n",
    "name.lower()\n",
    "name.upper()\n",
    "name.title()"
   ]
  },
  {
   "cell_type": "markdown",
   "id": "a9925b64-dca5-4157-a1ee-42e3fd88e4cd",
   "metadata": {},
   "source": [
    "### Task:\n",
    "    Write a program that prints the numbers from 1 to 100, but with the following rules:\n",
    "\n",
    "        - For numbers that are divisible by 3, print \"Fizz\" instead of the number.\n",
    "        - For numbers that are divisible by 5, print \"Buzz\" instead of the number.\n",
    "        - For numbers that are divisible by both 3 and 5, print \"FizzBuzz\" instead of the number.\n",
    "        - For all other numbers, print the number itself."
   ]
  },
  {
   "cell_type": "code",
   "execution_count": null,
   "id": "12a914de-9c5b-4669-bc35-0c41379f6f58",
   "metadata": {},
   "outputs": [],
   "source": [
    "for i in range(1, 101):\n",
    "    if i % 3 == 0:\n",
    "        print(\"Fizz\")"
   ]
  }
 ],
 "metadata": {
  "kernelspec": {
   "display_name": "Python [conda env:base] *",
   "language": "python",
   "name": "conda-base-py"
  },
  "language_info": {
   "codemirror_mode": {
    "name": "ipython",
    "version": 3
   },
   "file_extension": ".py",
   "mimetype": "text/x-python",
   "name": "python",
   "nbconvert_exporter": "python",
   "pygments_lexer": "ipython3",
   "version": "3.13.5"
  }
 },
 "nbformat": 4,
 "nbformat_minor": 5
}
